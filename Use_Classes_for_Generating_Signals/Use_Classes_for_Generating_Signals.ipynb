{
  "nbformat": 4,
  "nbformat_minor": 0,
  "metadata": {
    "colab": {
      "provenance": []
    },
    "kernelspec": {
      "name": "python3",
      "display_name": "Python 3"
    },
    "language_info": {
      "name": "python"
    }
  },
  "cells": [
    {
      "cell_type": "markdown",
      "source": [
        "During your work with signal data, you might end up programming multiple functions and methods that can implement the process you want to use on the signal data. However, at some point, it might be hard to keep tracking the quality of your methods applied to signals without prior knowledge of this data. Therefore, generating signal data with prior known parameters helps you better understand your program and method. Generating signals, especially sinusoidal signals, is very common in signal processing studies. And it is usually done for testing or to represent the use of different signal processing techniques, such as Discrete Fourier Transform, Wavelet analysis, etc.\n",
        "\n",
        "In this notebook, we will learn how to use classes to build a signal generator that you can use to generate sinusoidal signals for further understanding signal processing methods.\n"
      ],
      "metadata": {
        "id": "IjWGUzZQ7LmR"
      }
    },
    {
      "cell_type": "markdown",
      "source": [
        "Let's start our coding journey with a simple code that generate a sinusoidal signal."
      ],
      "metadata": {
        "id": "2_oab5hf_wDi"
      }
    },
    {
      "cell_type": "code",
      "execution_count": null,
      "metadata": {
        "id": "pYjm7Ble685R",
        "colab": {
          "base_uri": "https://localhost:8080/",
          "height": 295
        },
        "outputId": "4b53a126-29d5-4bbb-9423-da4ae948a6a2"
      },
      "outputs": [
        {
          "output_type": "display_data",
          "data": {
            "text/plain": [
              "<Figure size 432x288 with 1 Axes>"
            ],
            "image/png": "[encoded data removed]"
          },
          "metadata": {
            "needs_background": "light"
          }
        }
      ],
      "source": [
        "# Import the required package\n",
        "import numpy as np\n",
        "import matplotlib.pyplot as plt\n",
        "\n",
        "# Generate the x-axis (from 0 to 1 with step of 1/200)\n",
        "x = np.linspace(0,20,200)\n",
        "# Generate a sinusoidal 1D Array\n",
        "y = np.sin(x)\n",
        "\n",
        "# Plot the result\n",
        "plt.plot(x, y, 'b')\n",
        "plt.xlabel('x')\n",
        "plt.ylabel('y')\n",
        "plt.title('Sinusoidal Signal')\n",
        "plt.show()"
      ]
    },
    {
      "cell_type": "markdown",
      "source": [
        "# **Why classes?**\n",
        "\n",
        "From the code above, it seems we can generate signals without using classes. So, why the classes are a good choice? [[1]](https://docs.python.org/3/tutorial/classes.html)\n",
        "\n",
        "- The data is more controllable when using classes as you can build your object and methods that can be applied to control and get the signals without repeat coding like the above.\n",
        "\n",
        "- Using classes brings you more functionality. Classes allow you to define variables and functions as attributes.\n",
        "\n",
        "- More readability and flexibility of your code. With classes, your code becomes easier to be understood and used.\n",
        "\n",
        "- Classes play a major role in building packages. If you work a lot with signal data, you might consider building a special package that helps you with better and faster signal data analysis work.\n",
        "\n",
        "[**\"Think DSP\"**](https://github.com/AllenDowney/ThinkDSP.git) is a great example of building a package specifically for Digital Signal Processing. Allen B. Downey has his thoughts and experience in signal processing implemented into this package, from generating signals to analyzing spectrums and more."
      ],
      "metadata": {
        "id": "VuRA6BX0WRo8"
      }
    },
    {
      "cell_type": "markdown",
      "source": [
        "# **Classes, a Simple Start**\n",
        "\n",
        "Defining a class is similar to defining functions. First, you need a proper name for your class. There are no such rules for naming a class but it's preferred to be short and related to its functionality. Also, it's common. Let's define a class for our signal generator."
      ],
      "metadata": {
        "id": "m6gfUqGZTq9L"
      }
    },
    {
      "cell_type": "code",
      "source": [
        "# Define a class\n",
        "class Signal:\n",
        "  # Statement 1\n",
        "  # Statement 2"
      ],
      "metadata": {
        "id": "5lpE9LNmWeKf"
      },
      "execution_count": null,
      "outputs": []
    },
    {
      "cell_type": "markdown",
      "source": [
        "Different objects can be defined inside the class. These objects can be variables or functions and can be passed as methods or attributes of the class. Variables in our signal generator class might be the frequency and amplitude of the signal. Let's also define a function that prints these variables."
      ],
      "metadata": {
        "id": "fpIuWqAKWvLF"
      }
    },
    {
      "cell_type": "code",
      "source": [
        "# Signal Generator Class\n",
        "class Signal:\n",
        "  \"\"\"\n",
        "  Signal Generator\n",
        "  \"\"\"\n",
        "  # Define the frequency\n",
        "  f = 10 # in Hz\n",
        "  # Define the amplitude\n",
        "  a = 2\n",
        "\n",
        "  # Print the variables\n",
        "  def vars(self):\n",
        "    print('frequency=', self.f)\n",
        "    print('amplitude=', self.a)\n"
      ],
      "metadata": {
        "id": "daNZR7GKZdbd"
      },
      "execution_count": null,
      "outputs": []
    },
    {
      "cell_type": "markdown",
      "source": [
        "In the code above, \"self\" represents the instance of the class and it's used to access the attributes of the class and to bind the attributes with the given arguments [[2]](https://www.geeksforgeeks.org/self-in-python-class/). You can use any word other than \"self\" as the name has absolutely no special meaning to Python. Note, however, that by not following the convention your code may be less readable to other Python programmers [[1]](https://docs.python.org/3/tutorial/classes.html). One last thing about the code above is the statement directly after defining the class. This is the documentation that describes the functionality of the class. It's important to be implemented in your class as it makes your code more readable. The user of the class can access the documentation using the help function in python.\n",
        "\n",
        "The code below represents how to access the variables or the functions of a class.\n"
      ],
      "metadata": {
        "id": "8_iLpRZic5UD"
      }
    },
    {
      "cell_type": "code",
      "source": [
        "# Define a signal object\n",
        "signal = Signal()\n",
        "# Print the frequency of the signal\n",
        "print(signal.f)\n",
        "# Calling vars to print the Signal class variables\n",
        "signal.vars()"
      ],
      "metadata": {
        "colab": {
          "base_uri": "https://localhost:8080/"
        },
        "id": "enDcHvbrbFIW",
        "outputId": "8883530e-7d21-472e-b04f-62807393dbe5"
      },
      "execution_count": null,
      "outputs": [
        {
          "output_type": "stream",
          "name": "stdout",
          "text": [
            "10\n",
            "frequency= 10\n",
            "amplitude= 2\n"
          ]
        }
      ]
    },
    {
      "cell_type": "markdown",
      "source": [
        "# **A Special Method for Classes**\n",
        "Until now, not much flexibility has been presented by the classes above. But, fortunately, Python provides special methods that can be used to make the class more controllable. The most important method that we will discuss is the init() method. It is used to instantiate the class and its parameters customized to a specific initial state. With that in mind, calling a class object will automatically invoke the init method and instantiate all the variables and functions implemented into the init method [[1]](https://docs.python.org/3/tutorial/classes.html). The code below is a modification done on the previous code by defining the init method."
      ],
      "metadata": {
        "id": "FfsFkPSLpfVP"
      }
    },
    {
      "cell_type": "code",
      "source": [
        "# Signal Generator class\n",
        "class Signal:\n",
        "  \"\"\"\n",
        "  Signal Generator\n",
        "  \"\"\"\n",
        "\n",
        "  # Initialize the class object\n",
        "  def __init__(self, f, a):\n",
        "    self.frequency = f\n",
        "    self.amplitude = a\n",
        "  \n",
        "  # Print the varibles\n",
        "  def vars(self):\n",
        "    print('frequency=', self.frequency)\n",
        "    print('amplitude=', self.amplitude)"
      ],
      "metadata": {
        "id": "m37c9znqy10R"
      },
      "execution_count": null,
      "outputs": []
    },
    {
      "cell_type": "markdown",
      "source": [
        "Now if we try to define a Signal object, we need to pass the frequency and the amplitude of the signal."
      ],
      "metadata": {
        "id": "m2-iKZjx1aVq"
      }
    },
    {
      "cell_type": "code",
      "source": [
        "# Define a signal object\n",
        "signal = Signal(f=10, a=2)\n",
        "# Print the frequency of the signal\n",
        "print(signal.frequency)\n",
        "# Calling vars to print the Signal class variables\n",
        "signal.vars()"
      ],
      "metadata": {
        "colab": {
          "base_uri": "https://localhost:8080/"
        },
        "id": "Q4HE5HN00zoz",
        "outputId": "2e5be3fc-020e-4503-8bda-7edf19f63d19"
      },
      "execution_count": null,
      "outputs": [
        {
          "output_type": "stream",
          "name": "stdout",
          "text": [
            "10\n",
            "frequency= 10\n",
            "amplitude= 2\n"
          ]
        }
      ]
    },
    {
      "cell_type": "markdown",
      "source": [
        "Now that we understand how to define classes and their objects along with the special initializing method. It's time to build the signal generator class that we want from the beginning. First, we need to point out the parameters we will implement in the init() method. The general form of a sinusoidal wave can be given following the equation [[3]](https://pythonnumericalmethods.berkeley.edu/notebooks/chapter24.01-The-Basics-of-waves.html):\n",
        "$$y(t)=A.sin(2\\pi f+\\phi)$$\n",
        "where:\n",
        "- $A$: The amplitude of the signal\n",
        "- $f$: The frequency of the signal [Hz]\n",
        "- $\\phi$: The phase of the signal\n",
        "\n",
        "Two additional parameters should be added to our variables:\n",
        "- The duration of the signal, in seconds\n",
        "- The sampling rate, samples per second\n"
      ],
      "metadata": {
        "id": "eH80B5Va3PxV"
      }
    },
    {
      "cell_type": "code",
      "source": [
        "# Building a class Signal for better use.\n",
        "class Signal:\n",
        "  \"\"\"\n",
        "  Generate sinusoidal signals with specific ampltiudes, frequencies, duration,\n",
        "  sampling rate, and phase.\n",
        "\n",
        "  Example:\n",
        "    signal = Signal(amplitude=10, sampling_rate=2000.0)\n",
        "    sine = signal.sine()\n",
        "    cosine = signal.cosine()\n",
        "  \"\"\"\n",
        "\n",
        "  def __init__(self, amplitude=1, frequency=10, duration=1, sampling_rate=100.0, phase=0):\n",
        "    \"\"\"\n",
        "    Initialize the Signal class.\n",
        "\n",
        "    Args:\n",
        "        amplitude (float): The amplitude of the signal\n",
        "        frequency (int): The frequency of the signal Hz\n",
        "        duration (float): The duration of the signal in second\n",
        "        sampling_rate (float): The sampling per second of the signal\n",
        "        phase (float): The phase of the signal in radians\n",
        "    \n",
        "    Additional parameters,which are required to generate the signal, are\n",
        "    calculated and defined to be initialized here too:\n",
        "        time_step (float): 1.0/sampling_rate\n",
        "        time_axis (np.array): Generate the time axis from the duration and\n",
        "                              the time_step of the signal. The time axis is\n",
        "                              for better representation of the signal.\n",
        "    \"\"\"\n",
        "    self.amplitude = amplitude\n",
        "    self.frequency = frequency\n",
        "    self.duration = duration\n",
        "    self.sampling_rate = sampling_rate\n",
        "    self.phase = phase\n",
        "    self.time_step = 1.0/self.sampling_rate\n",
        "    self.time_axis = np.arange(0, self.duration, self.time_step)\n",
        "  \n",
        "  # Generate sine wave\n",
        "  def sine(self):\n",
        "    \"\"\"\n",
        "    Method of Signal\n",
        "\n",
        "    Returns:\n",
        "        np.array of sine wave using the pre-defined variables (amplitude,\n",
        "        frequency, time_axis, and phase)\n",
        "    \"\"\"\n",
        "    return self.amplitude*np.sin(2*np.pi*self.frequency*self.time_axis+self.phase)\n",
        "  \n",
        "  # Generate cosine wave\n",
        "  def cosine(self):\n",
        "    \"\"\"\n",
        "    Method of Signal\n",
        "\n",
        "    Returns:\n",
        "        np.array of cosine wave using the pre-defined variables (amplitude,\n",
        "        frequency, time_axis, and phase)\n",
        "    \"\"\"\n",
        "    return self.amplitude*np.cos(2*np.pi*self.frequency*self.time_axis+self.phase)"
      ],
      "metadata": {
        "id": "26JUkJWw108u"
      },
      "execution_count": null,
      "outputs": []
    },
    {
      "cell_type": "markdown",
      "source": [
        "# **Let's Use our Signal Class**\n",
        "\n",
        "Suppose we want to generate a signal that is the sum of three sinusoidal signals. The frequencies of these three signals are (20, 2, 7)Hz, respectively. The amplitudes of these three signals are (2, 6, 1), respectively. The sampling rate of the signals is 1000. And lastly, the duration of the signals is 3 seconds. Let's leave the phase of the signals as it is, 0.\n",
        "\n"
      ],
      "metadata": {
        "id": "nGh5aOwGNUqm"
      }
    },
    {
      "cell_type": "code",
      "source": [
        "# Define the first signal, 20Hz and amplitude of 2\n",
        "s1 = Signal(amplitude=2, frequency=20, sampling_rate=1000.0, duration=3)\n",
        "sine1 = s1.sine()\n",
        "\n",
        "# Define the second signal, 2Hz and amplitude of 6\n",
        "s2 = Signal(amplitude=6, frequency=2, sampling_rate=1000.0, duration=3)\n",
        "sine2 = s2.sine()\n",
        "\n",
        "# Define the second signal, 7Hz and amplitude of 1\n",
        "s3 = Signal(amplitude=1, frequency=7, sampling_rate=1000.0, duration=3)\n",
        "sine3 = s2.sine()\n",
        "\n",
        "# Our signal is the sum of the three signals\n",
        "signal = sine1 + sine2 + sine3\n",
        "\n",
        "# Plot the signal\n",
        "plt.plot(s1.time_axis, signal, 'r')\n",
        "plt.xlabel('Time [sec]')\n",
        "plt.ylabel('Amplitude')\n",
        "plt.title('This signal is generated using Signal class')\n",
        "plt.show()"
      ],
      "metadata": {
        "colab": {
          "base_uri": "https://localhost:8080/",
          "height": 295
        },
        "id": "NTEFKYJLOzww",
        "outputId": "61d577e6-45cf-4b9d-8c81-3d70026de211"
      },
      "execution_count": null,
      "outputs": [
        {
          "output_type": "display_data",
          "data": {
            "text/plain": [
              "<Figure size 432x288 with 1 Axes>"
            ],
            "image/png": "[encoded data removed]"
          },
          "metadata": {
            "needs_background": "light"
          }
        }
      ]
    },
    {
      "cell_type": "markdown",
      "source": [
        "# **References**\n",
        "\n",
        "[[1]](https://docs.python.org/3/tutorial/classes.html) Python Documentation, Classes, A First Look at Classes. [Accessed at 28/1/2023]\n",
        "\n",
        "[[2]](https://www.geeksforgeeks.org/self-in-python-class/) GeeksforGeeks, Classes, Self in Classes. [Accessed at 28/1/2023]\n",
        "\n",
        "[[3]](https://pythonnumericalmethods.berkeley.edu/notebooks/chapter24.01-The-Basics-of-waves.html) Kong, Q., Siauw, T., & Bayen, A. (2020). Python programming and numerical methods: A guide for engineers and scientists, Fourier Transform, The Basics of waves. Academic Press."
      ],
      "metadata": {
        "id": "M5rSv--ES32A"
      }
    }
  ]
}